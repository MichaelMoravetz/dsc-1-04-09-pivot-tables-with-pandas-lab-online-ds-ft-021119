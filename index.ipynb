{
 "cells": [
  {
   "cell_type": "markdown",
   "metadata": {},
   "source": [
    "# Pivot Tables with Pandas - Lab\n",
    "\n",
    "## Introduction\n",
    "\n",
    "In this lab, we'll learn how to make use of our newfound knowledge of pivot tables to work with real-world data.  We'll start by exploring \n",
    "\n",
    "## Objectives\n",
    "\n",
    "You will be able to:\n",
    "\n",
    "* Understand and explain what a multi-level hierarchical index is\n",
    "* Understand, explain the difference and use df.pivot and pd.pivot_table\n",
    "* Switch between “long” and “wide” in a DataFrame using stack() and unstack()\n",
    "* Transform “wide” to “long” DataFrames using `melt`"
   ]
  },
  {
   "cell_type": "markdown",
   "metadata": {},
   "source": [
    "## Getting Started\n",
    "\n",
    "### Import Pandas and Matplotlib.pyplot Using Standard Aliases\n",
    "\n",
    "In the cell below:\n",
    "\n",
    "* Import `pandas` and set the standard alias\n",
    "* Import `matplotlib.pyplot` and set the standard alias\n",
    "* Run the ipython magic command to display matplotlib graphs inline within the notebook"
   ]
  },
  {
   "cell_type": "code",
   "execution_count": 35,
   "metadata": {},
   "outputs": [],
   "source": [
    "import pandas as pd\n",
    "import numpy as np\n",
    "import matplotlib.pyplot as plt\n",
    "%matplotlib inline"
   ]
  },
  {
   "cell_type": "markdown",
   "metadata": {},
   "source": [
    "## Load the Data\n",
    "The data for this activity is stored in a file called `'causes_of_death.tsv'` which is a somewhat morbid dataset from the center for disease control. Note that the file extension .tsv indicates that this data is formatted slightly differently then the standard .csv, the difference being that it has 'tab seperated values' instead of 'comma seperated values'. As such, pass in the optional parameter `delimiter='\\t'` into the `pd.read_csv()` method."
   ]
  },
  {
   "cell_type": "code",
   "execution_count": 142,
   "metadata": {},
   "outputs": [],
   "source": [
    "df = pd.read_csv('causes_of_death.tsv', delimiter='\\t')"
   ]
  },
  {
   "cell_type": "markdown",
   "metadata": {},
   "source": [
    "Now, display the head of the DataFrame to ensure everything loaded correctly."
   ]
  },
  {
   "cell_type": "code",
   "execution_count": 4,
   "metadata": {},
   "outputs": [
    {
     "data": {
      "text/html": [
       "<div>\n",
       "<style scoped>\n",
       "    .dataframe tbody tr th:only-of-type {\n",
       "        vertical-align: middle;\n",
       "    }\n",
       "\n",
       "    .dataframe tbody tr th {\n",
       "        vertical-align: top;\n",
       "    }\n",
       "\n",
       "    .dataframe thead th {\n",
       "        text-align: right;\n",
       "    }\n",
       "</style>\n",
       "<table border=\"1\" class=\"dataframe\">\n",
       "  <thead>\n",
       "    <tr style=\"text-align: right;\">\n",
       "      <th></th>\n",
       "      <th>Notes</th>\n",
       "      <th>State</th>\n",
       "      <th>State Code</th>\n",
       "      <th>Ten-Year Age Groups</th>\n",
       "      <th>Ten-Year Age Groups Code</th>\n",
       "      <th>Gender</th>\n",
       "      <th>Gender Code</th>\n",
       "      <th>Race</th>\n",
       "      <th>Race Code</th>\n",
       "      <th>Deaths</th>\n",
       "      <th>Population</th>\n",
       "      <th>Crude Rate</th>\n",
       "    </tr>\n",
       "  </thead>\n",
       "  <tbody>\n",
       "    <tr>\n",
       "      <th>0</th>\n",
       "      <td>NaN</td>\n",
       "      <td>Alabama</td>\n",
       "      <td>1</td>\n",
       "      <td>&lt; 1 year</td>\n",
       "      <td>1</td>\n",
       "      <td>Female</td>\n",
       "      <td>F</td>\n",
       "      <td>American Indian or Alaska Native</td>\n",
       "      <td>1002-5</td>\n",
       "      <td>14</td>\n",
       "      <td>3579</td>\n",
       "      <td>Unreliable</td>\n",
       "    </tr>\n",
       "    <tr>\n",
       "      <th>1</th>\n",
       "      <td>NaN</td>\n",
       "      <td>Alabama</td>\n",
       "      <td>1</td>\n",
       "      <td>&lt; 1 year</td>\n",
       "      <td>1</td>\n",
       "      <td>Female</td>\n",
       "      <td>F</td>\n",
       "      <td>Asian or Pacific Islander</td>\n",
       "      <td>A-PI</td>\n",
       "      <td>24</td>\n",
       "      <td>7443</td>\n",
       "      <td>322.5</td>\n",
       "    </tr>\n",
       "    <tr>\n",
       "      <th>2</th>\n",
       "      <td>NaN</td>\n",
       "      <td>Alabama</td>\n",
       "      <td>1</td>\n",
       "      <td>&lt; 1 year</td>\n",
       "      <td>1</td>\n",
       "      <td>Female</td>\n",
       "      <td>F</td>\n",
       "      <td>Black or African American</td>\n",
       "      <td>2054-5</td>\n",
       "      <td>2093</td>\n",
       "      <td>169339</td>\n",
       "      <td>1236.0</td>\n",
       "    </tr>\n",
       "    <tr>\n",
       "      <th>3</th>\n",
       "      <td>NaN</td>\n",
       "      <td>Alabama</td>\n",
       "      <td>1</td>\n",
       "      <td>&lt; 1 year</td>\n",
       "      <td>1</td>\n",
       "      <td>Female</td>\n",
       "      <td>F</td>\n",
       "      <td>White</td>\n",
       "      <td>2106-3</td>\n",
       "      <td>2144</td>\n",
       "      <td>347921</td>\n",
       "      <td>616.2</td>\n",
       "    </tr>\n",
       "    <tr>\n",
       "      <th>4</th>\n",
       "      <td>NaN</td>\n",
       "      <td>Alabama</td>\n",
       "      <td>1</td>\n",
       "      <td>&lt; 1 year</td>\n",
       "      <td>1</td>\n",
       "      <td>Male</td>\n",
       "      <td>M</td>\n",
       "      <td>Asian or Pacific Islander</td>\n",
       "      <td>A-PI</td>\n",
       "      <td>33</td>\n",
       "      <td>7366</td>\n",
       "      <td>448.0</td>\n",
       "    </tr>\n",
       "  </tbody>\n",
       "</table>\n",
       "</div>"
      ],
      "text/plain": [
       "   Notes    State  State Code Ten-Year Age Groups Ten-Year Age Groups Code  \\\n",
       "0    NaN  Alabama           1            < 1 year                        1   \n",
       "1    NaN  Alabama           1            < 1 year                        1   \n",
       "2    NaN  Alabama           1            < 1 year                        1   \n",
       "3    NaN  Alabama           1            < 1 year                        1   \n",
       "4    NaN  Alabama           1            < 1 year                        1   \n",
       "\n",
       "   Gender Gender Code                              Race Race Code  Deaths  \\\n",
       "0  Female           F  American Indian or Alaska Native    1002-5      14   \n",
       "1  Female           F         Asian or Pacific Islander      A-PI      24   \n",
       "2  Female           F         Black or African American    2054-5    2093   \n",
       "3  Female           F                             White    2106-3    2144   \n",
       "4    Male           M         Asian or Pacific Islander      A-PI      33   \n",
       "\n",
       "  Population  Crude Rate  \n",
       "0       3579  Unreliable  \n",
       "1       7443       322.5  \n",
       "2     169339      1236.0  \n",
       "3     347921       616.2  \n",
       "4       7366       448.0  "
      ]
     },
     "execution_count": 4,
     "metadata": {},
     "output_type": "execute_result"
    }
   ],
   "source": [
    "df.head()"
   ]
  },
  {
   "cell_type": "markdown",
   "metadata": {},
   "source": [
    "Our data is currently in **_Wide_** format.  We can tidy this up by converting it to **_Long_** format by using groupby statements to aggregate our data into a much neater, more readable format. \n",
    "\n",
    "# Groupby Aggregations\n",
    "\n",
    "Complete the following groupby statements."
   ]
  },
  {
   "cell_type": "markdown",
   "metadata": {},
   "source": [
    "# 1) Groupby State and Gender. Sum the values."
   ]
  },
  {
   "cell_type": "code",
   "execution_count": 108,
   "metadata": {},
   "outputs": [
    {
     "data": {
      "text/html": [
       "<div>\n",
       "<style scoped>\n",
       "    .dataframe tbody tr th:only-of-type {\n",
       "        vertical-align: middle;\n",
       "    }\n",
       "\n",
       "    .dataframe tbody tr th {\n",
       "        vertical-align: top;\n",
       "    }\n",
       "\n",
       "    .dataframe thead th {\n",
       "        text-align: right;\n",
       "    }\n",
       "</style>\n",
       "<table border=\"1\" class=\"dataframe\">\n",
       "  <thead>\n",
       "    <tr style=\"text-align: right;\">\n",
       "      <th></th>\n",
       "      <th>Notes</th>\n",
       "      <th>State</th>\n",
       "      <th>State Code</th>\n",
       "      <th>Ten-Year Age Groups</th>\n",
       "      <th>Ten-Year Age Groups Code</th>\n",
       "      <th>Gender</th>\n",
       "      <th>Gender Code</th>\n",
       "      <th>Race</th>\n",
       "      <th>Race Code</th>\n",
       "      <th>Deaths</th>\n",
       "      <th>Population</th>\n",
       "      <th>Crude Rate</th>\n",
       "    </tr>\n",
       "  </thead>\n",
       "  <tbody>\n",
       "    <tr>\n",
       "      <th>0</th>\n",
       "      <td>NaN</td>\n",
       "      <td>Alabama</td>\n",
       "      <td>1</td>\n",
       "      <td>&lt; 1 year</td>\n",
       "      <td>1</td>\n",
       "      <td>Female</td>\n",
       "      <td>F</td>\n",
       "      <td>American Indian or Alaska Native</td>\n",
       "      <td>1002-5</td>\n",
       "      <td>14</td>\n",
       "      <td>3579</td>\n",
       "      <td>Unreliable</td>\n",
       "    </tr>\n",
       "    <tr>\n",
       "      <th>1</th>\n",
       "      <td>NaN</td>\n",
       "      <td>Alabama</td>\n",
       "      <td>1</td>\n",
       "      <td>&lt; 1 year</td>\n",
       "      <td>1</td>\n",
       "      <td>Female</td>\n",
       "      <td>F</td>\n",
       "      <td>Asian or Pacific Islander</td>\n",
       "      <td>A-PI</td>\n",
       "      <td>24</td>\n",
       "      <td>7443</td>\n",
       "      <td>322.5</td>\n",
       "    </tr>\n",
       "    <tr>\n",
       "      <th>2</th>\n",
       "      <td>NaN</td>\n",
       "      <td>Alabama</td>\n",
       "      <td>1</td>\n",
       "      <td>&lt; 1 year</td>\n",
       "      <td>1</td>\n",
       "      <td>Female</td>\n",
       "      <td>F</td>\n",
       "      <td>Black or African American</td>\n",
       "      <td>2054-5</td>\n",
       "      <td>2093</td>\n",
       "      <td>169339</td>\n",
       "      <td>1236.0</td>\n",
       "    </tr>\n",
       "    <tr>\n",
       "      <th>3</th>\n",
       "      <td>NaN</td>\n",
       "      <td>Alabama</td>\n",
       "      <td>1</td>\n",
       "      <td>&lt; 1 year</td>\n",
       "      <td>1</td>\n",
       "      <td>Female</td>\n",
       "      <td>F</td>\n",
       "      <td>White</td>\n",
       "      <td>2106-3</td>\n",
       "      <td>2144</td>\n",
       "      <td>347921</td>\n",
       "      <td>616.2</td>\n",
       "    </tr>\n",
       "    <tr>\n",
       "      <th>4</th>\n",
       "      <td>NaN</td>\n",
       "      <td>Alabama</td>\n",
       "      <td>1</td>\n",
       "      <td>&lt; 1 year</td>\n",
       "      <td>1</td>\n",
       "      <td>Male</td>\n",
       "      <td>M</td>\n",
       "      <td>Asian or Pacific Islander</td>\n",
       "      <td>A-PI</td>\n",
       "      <td>33</td>\n",
       "      <td>7366</td>\n",
       "      <td>448.0</td>\n",
       "    </tr>\n",
       "  </tbody>\n",
       "</table>\n",
       "</div>"
      ],
      "text/plain": [
       "   Notes    State  State Code Ten-Year Age Groups Ten-Year Age Groups Code  \\\n",
       "0    NaN  Alabama           1            < 1 year                        1   \n",
       "1    NaN  Alabama           1            < 1 year                        1   \n",
       "2    NaN  Alabama           1            < 1 year                        1   \n",
       "3    NaN  Alabama           1            < 1 year                        1   \n",
       "4    NaN  Alabama           1            < 1 year                        1   \n",
       "\n",
       "   Gender Gender Code                              Race Race Code  Deaths  \\\n",
       "0  Female           F  American Indian or Alaska Native    1002-5      14   \n",
       "1  Female           F         Asian or Pacific Islander      A-PI      24   \n",
       "2  Female           F         Black or African American    2054-5    2093   \n",
       "3  Female           F                             White    2106-3    2144   \n",
       "4    Male           M         Asian or Pacific Islander      A-PI      33   \n",
       "\n",
       "  Population  Crude Rate  \n",
       "0       3579  Unreliable  \n",
       "1       7443       322.5  \n",
       "2     169339      1236.0  \n",
       "3     347921       616.2  \n",
       "4       7366       448.0  "
      ]
     },
     "execution_count": 108,
     "metadata": {},
     "output_type": "execute_result"
    }
   ],
   "source": [
    "df.groupby(['State', 'Gender']).sum()\n",
    "df.head()\n"
   ]
  },
  {
   "cell_type": "markdown",
   "metadata": {},
   "source": [
    "# 2) Groupby State and Gender and Race. Find the average values."
   ]
  },
  {
   "cell_type": "code",
   "execution_count": 109,
   "metadata": {},
   "outputs": [
    {
     "data": {
      "text/html": [
       "<div>\n",
       "<style scoped>\n",
       "    .dataframe tbody tr th:only-of-type {\n",
       "        vertical-align: middle;\n",
       "    }\n",
       "\n",
       "    .dataframe tbody tr th {\n",
       "        vertical-align: top;\n",
       "    }\n",
       "\n",
       "    .dataframe thead th {\n",
       "        text-align: right;\n",
       "    }\n",
       "</style>\n",
       "<table border=\"1\" class=\"dataframe\">\n",
       "  <thead>\n",
       "    <tr style=\"text-align: right;\">\n",
       "      <th></th>\n",
       "      <th></th>\n",
       "      <th></th>\n",
       "      <th>Notes</th>\n",
       "      <th>State Code</th>\n",
       "      <th>Deaths</th>\n",
       "    </tr>\n",
       "    <tr>\n",
       "      <th>State</th>\n",
       "      <th>Gender</th>\n",
       "      <th>Race</th>\n",
       "      <th></th>\n",
       "      <th></th>\n",
       "      <th></th>\n",
       "    </tr>\n",
       "  </thead>\n",
       "  <tbody>\n",
       "    <tr>\n",
       "      <th rowspan=\"5\" valign=\"top\">Alabama</th>\n",
       "      <th rowspan=\"4\" valign=\"top\">Female</th>\n",
       "      <th>American Indian or Alaska Native</th>\n",
       "      <td>NaN</td>\n",
       "      <td>1.0</td>\n",
       "      <td>70.875000</td>\n",
       "    </tr>\n",
       "    <tr>\n",
       "      <th>Asian or Pacific Islander</th>\n",
       "      <td>NaN</td>\n",
       "      <td>1.0</td>\n",
       "      <td>95.500000</td>\n",
       "    </tr>\n",
       "    <tr>\n",
       "      <th>Black or African American</th>\n",
       "      <td>NaN</td>\n",
       "      <td>1.0</td>\n",
       "      <td>9074.000000</td>\n",
       "    </tr>\n",
       "    <tr>\n",
       "      <th>White</th>\n",
       "      <td>NaN</td>\n",
       "      <td>1.0</td>\n",
       "      <td>29890.636364</td>\n",
       "    </tr>\n",
       "    <tr>\n",
       "      <th>Male</th>\n",
       "      <th>American Indian or Alaska Native</th>\n",
       "      <td>NaN</td>\n",
       "      <td>1.0</td>\n",
       "      <td>86.375000</td>\n",
       "    </tr>\n",
       "  </tbody>\n",
       "</table>\n",
       "</div>"
      ],
      "text/plain": [
       "                                                 Notes  State Code  \\\n",
       "State   Gender Race                                                  \n",
       "Alabama Female American Indian or Alaska Native    NaN         1.0   \n",
       "               Asian or Pacific Islander           NaN         1.0   \n",
       "               Black or African American           NaN         1.0   \n",
       "               White                               NaN         1.0   \n",
       "        Male   American Indian or Alaska Native    NaN         1.0   \n",
       "\n",
       "                                                       Deaths  \n",
       "State   Gender Race                                            \n",
       "Alabama Female American Indian or Alaska Native     70.875000  \n",
       "               Asian or Pacific Islander            95.500000  \n",
       "               Black or African American          9074.000000  \n",
       "               White                             29890.636364  \n",
       "        Male   American Indian or Alaska Native     86.375000  "
      ]
     },
     "execution_count": 109,
     "metadata": {},
     "output_type": "execute_result"
    }
   ],
   "source": [
    "df.groupby(['State', 'Gender', 'Race']).mean().head()\n"
   ]
  },
  {
   "cell_type": "markdown",
   "metadata": {},
   "source": [
    "# 3) Groupby Gender and Race. Find the minimum values."
   ]
  },
  {
   "cell_type": "code",
   "execution_count": 110,
   "metadata": {},
   "outputs": [
    {
     "data": {
      "text/html": [
       "<div>\n",
       "<style scoped>\n",
       "    .dataframe tbody tr th:only-of-type {\n",
       "        vertical-align: middle;\n",
       "    }\n",
       "\n",
       "    .dataframe tbody tr th {\n",
       "        vertical-align: top;\n",
       "    }\n",
       "\n",
       "    .dataframe thead th {\n",
       "        text-align: right;\n",
       "    }\n",
       "</style>\n",
       "<table border=\"1\" class=\"dataframe\">\n",
       "  <thead>\n",
       "    <tr style=\"text-align: right;\">\n",
       "      <th></th>\n",
       "      <th></th>\n",
       "      <th>Notes</th>\n",
       "      <th>State</th>\n",
       "      <th>State Code</th>\n",
       "      <th>Ten-Year Age Groups</th>\n",
       "      <th>Ten-Year Age Groups Code</th>\n",
       "      <th>Gender Code</th>\n",
       "      <th>Race Code</th>\n",
       "      <th>Deaths</th>\n",
       "      <th>Population</th>\n",
       "      <th>Crude Rate</th>\n",
       "    </tr>\n",
       "    <tr>\n",
       "      <th>Gender</th>\n",
       "      <th>Race</th>\n",
       "      <th></th>\n",
       "      <th></th>\n",
       "      <th></th>\n",
       "      <th></th>\n",
       "      <th></th>\n",
       "      <th></th>\n",
       "      <th></th>\n",
       "      <th></th>\n",
       "      <th></th>\n",
       "      <th></th>\n",
       "    </tr>\n",
       "  </thead>\n",
       "  <tbody>\n",
       "    <tr>\n",
       "      <th rowspan=\"4\" valign=\"top\">Female</th>\n",
       "      <th>American Indian or Alaska Native</th>\n",
       "      <td>NaN</td>\n",
       "      <td>Alabama</td>\n",
       "      <td>1</td>\n",
       "      <td>1-4 years</td>\n",
       "      <td>1</td>\n",
       "      <td>F</td>\n",
       "      <td>1002-5</td>\n",
       "      <td>10</td>\n",
       "      <td>100285</td>\n",
       "      <td>10.4</td>\n",
       "    </tr>\n",
       "    <tr>\n",
       "      <th>Asian or Pacific Islander</th>\n",
       "      <td>NaN</td>\n",
       "      <td>Alabama</td>\n",
       "      <td>1</td>\n",
       "      <td>1-4 years</td>\n",
       "      <td>1</td>\n",
       "      <td>F</td>\n",
       "      <td>A-PI</td>\n",
       "      <td>10</td>\n",
       "      <td>100371</td>\n",
       "      <td>10.1</td>\n",
       "    </tr>\n",
       "    <tr>\n",
       "      <th>Black or African American</th>\n",
       "      <td>NaN</td>\n",
       "      <td>Alabama</td>\n",
       "      <td>1</td>\n",
       "      <td>1-4 years</td>\n",
       "      <td>1</td>\n",
       "      <td>F</td>\n",
       "      <td>2054-5</td>\n",
       "      <td>10</td>\n",
       "      <td>100170</td>\n",
       "      <td>100.3</td>\n",
       "    </tr>\n",
       "    <tr>\n",
       "      <th>White</th>\n",
       "      <td>NaN</td>\n",
       "      <td>Alabama</td>\n",
       "      <td>1</td>\n",
       "      <td>1-4 years</td>\n",
       "      <td>1</td>\n",
       "      <td>F</td>\n",
       "      <td>2106-3</td>\n",
       "      <td>12</td>\n",
       "      <td>1000704</td>\n",
       "      <td>10.1</td>\n",
       "    </tr>\n",
       "    <tr>\n",
       "      <th>Male</th>\n",
       "      <th>American Indian or Alaska Native</th>\n",
       "      <td>NaN</td>\n",
       "      <td>Alabama</td>\n",
       "      <td>1</td>\n",
       "      <td>1-4 years</td>\n",
       "      <td>1</td>\n",
       "      <td>M</td>\n",
       "      <td>1002-5</td>\n",
       "      <td>10</td>\n",
       "      <td>1001</td>\n",
       "      <td>10000.0</td>\n",
       "    </tr>\n",
       "  </tbody>\n",
       "</table>\n",
       "</div>"
      ],
      "text/plain": [
       "                                         Notes    State  State Code  \\\n",
       "Gender Race                                                           \n",
       "Female American Indian or Alaska Native    NaN  Alabama           1   \n",
       "       Asian or Pacific Islander           NaN  Alabama           1   \n",
       "       Black or African American           NaN  Alabama           1   \n",
       "       White                               NaN  Alabama           1   \n",
       "Male   American Indian or Alaska Native    NaN  Alabama           1   \n",
       "\n",
       "                                        Ten-Year Age Groups  \\\n",
       "Gender Race                                                   \n",
       "Female American Indian or Alaska Native           1-4 years   \n",
       "       Asian or Pacific Islander                  1-4 years   \n",
       "       Black or African American                  1-4 years   \n",
       "       White                                      1-4 years   \n",
       "Male   American Indian or Alaska Native           1-4 years   \n",
       "\n",
       "                                        Ten-Year Age Groups Code Gender Code  \\\n",
       "Gender Race                                                                    \n",
       "Female American Indian or Alaska Native                        1           F   \n",
       "       Asian or Pacific Islander                               1           F   \n",
       "       Black or African American                               1           F   \n",
       "       White                                                   1           F   \n",
       "Male   American Indian or Alaska Native                        1           M   \n",
       "\n",
       "                                        Race Code  Deaths Population  \\\n",
       "Gender Race                                                            \n",
       "Female American Indian or Alaska Native    1002-5      10     100285   \n",
       "       Asian or Pacific Islander             A-PI      10     100371   \n",
       "       Black or African American           2054-5      10     100170   \n",
       "       White                               2106-3      12    1000704   \n",
       "Male   American Indian or Alaska Native    1002-5      10       1001   \n",
       "\n",
       "                                        Crude Rate  \n",
       "Gender Race                                         \n",
       "Female American Indian or Alaska Native       10.4  \n",
       "       Asian or Pacific Islander              10.1  \n",
       "       Black or African American             100.3  \n",
       "       White                                  10.1  \n",
       "Male   American Indian or Alaska Native    10000.0  "
      ]
     },
     "execution_count": 110,
     "metadata": {},
     "output_type": "execute_result"
    }
   ],
   "source": [
    "df.groupby(['Gender', 'Race']).min().head()\n"
   ]
  },
  {
   "cell_type": "markdown",
   "metadata": {},
   "source": [
    "## 4) Create a bar chart of the total number of deaths by state.\n",
    "* Sort your columns in order (ascending or descending are both acceptable).  \n",
    "* Also make sure to include a title, axes labels and have your graph be an appropriate size.\n",
    "\n",
    "**_NOTE:_** In order to do this, slice the `Deaths` column after the `.groupby()` method, but before the `sum()` method.  You can even chain the `.plot()` call on after the `sum()` call and do this all on one line, excluding the labeling of the graph!"
   ]
  },
  {
   "cell_type": "code",
   "execution_count": 125,
   "metadata": {},
   "outputs": [
    {
     "data": {
      "image/png": "[encoded data removed]",
      "text/plain": [
       "<Figure size 1080x792 with 1 Axes>"
      ]
     },
     "metadata": {
      "needs_background": "light"
     },
     "output_type": "display_data"
    }
   ],
   "source": [
    "df.sort_values(by=['Deaths'])\n",
    "df.groupby('State')['Deaths'].sum().plot(x=df['State'], y=df['Deaths'], kind='bar',figsize=(15,11), title='Number of Deaths by State')\n",
    "plt.xlabel('States')\n",
    "plt.ylabel('TOTAL DEATHS! with a little destruction')\n",
    "plt.show()"
   ]
  },
  {
   "cell_type": "markdown",
   "metadata": {},
   "source": [
    "### Inspecting our Data\n",
    "\n",
    "Let's go one step further and get a print-out of the data type of each column. \n",
    "\n",
    "In the cell below, get the `.info()` of our DataFrame, and note the data type that each column is currently stored as.  "
   ]
  },
  {
   "cell_type": "code",
   "execution_count": 19,
   "metadata": {
    "scrolled": true
   },
   "outputs": [
    {
     "name": "stdout",
     "output_type": "stream",
     "text": [
      "<class 'pandas.core.frame.DataFrame'>\n",
      "RangeIndex: 4115 entries, 0 to 4114\n",
      "Data columns (total 12 columns):\n",
      "Notes                       0 non-null float64\n",
      "State                       4115 non-null object\n",
      "State Code                  4115 non-null int64\n",
      "Ten-Year Age Groups         4115 non-null object\n",
      "Ten-Year Age Groups Code    4115 non-null object\n",
      "Gender                      4115 non-null object\n",
      "Gender Code                 4115 non-null object\n",
      "Race                        4115 non-null object\n",
      "Race Code                   4115 non-null object\n",
      "Deaths                      4115 non-null int64\n",
      "Population                  4115 non-null object\n",
      "Crude Rate                  4115 non-null object\n",
      "dtypes: float64(1), int64(2), object(9)\n",
      "memory usage: 385.9+ KB\n"
     ]
    }
   ],
   "source": [
    "df.info()"
   ]
  },
  {
   "cell_type": "markdown",
   "metadata": {},
   "source": [
    "Let's look at some samples from the Population column to see if the current encoding seems appropriate for the data it contains. \n",
    "\n",
    "In the cell below, display the population values for the first 5 rows in the DataFrame.  "
   ]
  },
  {
   "cell_type": "code",
   "execution_count": 20,
   "metadata": {},
   "outputs": [
    {
     "data": {
      "text/plain": [
       "0      3579\n",
       "1      7443\n",
       "2    169339\n",
       "3    347921\n",
       "4      7366\n",
       "Name: Population, dtype: object"
      ]
     },
     "execution_count": 20,
     "metadata": {},
     "output_type": "execute_result"
    }
   ],
   "source": [
    "df.Population.head()"
   ]
  },
  {
   "cell_type": "markdown",
   "metadata": {},
   "source": [
    "Just to be extra sure, let's check the value counts to see how many times each unqiue value shows up in the dataset. We'll only look at the top 5. \n",
    "\n",
    "In the cell below, print out the top 5 `value_counts()` of the population column of the DataFrame. "
   ]
  },
  {
   "cell_type": "code",
   "execution_count": 22,
   "metadata": {},
   "outputs": [
    {
     "name": "stdout",
     "output_type": "stream",
     "text": [
      "169339    1\n",
      "3579      1\n",
      "347921    1\n",
      "7443      1\n",
      "7366      1\n",
      "Name: Population, dtype: int64\n"
     ]
    }
   ],
   "source": [
    "print(df['Population'][:5].value_counts())"
   ]
  },
  {
   "cell_type": "markdown",
   "metadata": {},
   "source": [
    "Clearly, this data should be stored as a numeric type, not a categorical type.  \n",
    "\n",
    "### 5a) Reformat the Population Column as an Integer\n",
    "As stands, not all values will be able to be reformated as integers. Most of the cells in the the `Population` column contain integer values, but the entire column is currently encoded in string format because some cells contain the string `\"Not Applicable\"`.\n",
    "\n",
    "We need to remove these rows before we can cast the Population column to an Integer data type. \n",
    "\n",
    "In the cell below:\n",
    "\n",
    "* Slice the rows of `df` where the Population column is equal to `'Not Applicable'`.\n",
    "* Use `to_drop.index`  to drop the offending rows from `df`. Be sure to set the `axis=0`, and `inplace=True`\n",
    "* Cast the Population column to an integer data type using the `.astype()` function, with the single parameter `int64` passed in. \n",
    "* Print the Population column's `dtype` attribute to confirm it is now stored in `int64` format. \n",
    "\n",
    "**_NOTE:_** `.astype()` returns a copy of the column, so make sure you set the Population column equal to what this method returns--don't just call it!"
   ]
  },
  {
   "cell_type": "code",
   "execution_count": 143,
   "metadata": {},
   "outputs": [
    {
     "data": {
      "text/plain": [
       "dtype('int64')"
      ]
     },
     "execution_count": 143,
     "metadata": {},
     "output_type": "execute_result"
    }
   ],
   "source": [
    "to_drop = df.loc[df['Population'] == 'Not Applicable']\n",
    "df.drop(to_drop.index, axis=0, inplace=True)\n",
    "df.Population =  df.Population.astype(np.int64)\n",
    "df.Population.dtype"
   ]
  },
  {
   "cell_type": "markdown",
   "metadata": {},
   "source": [
    "### 5b) Complete the Bar Chart\n",
    "\n",
    "Now that we've reformatted our data, let's create a bar chart of the of the Mean Population by State."
   ]
  },
  {
   "cell_type": "code",
   "execution_count": 113,
   "metadata": {},
   "outputs": [
    {
     "data": {
      "image/png": "[encoded data removed]",
      "text/plain": [
       "<Figure size 1080x792 with 1 Axes>"
      ]
     },
     "metadata": {
      "needs_background": "light"
     },
     "output_type": "display_data"
    }
   ],
   "source": [
    "df.groupby('State')['Population'].mean().plot(x=df['State'], y=df['Population'], kind='bar',figsize=(15,11), title='Mean Population by State')\n",
    "plt.xlabel('States')\n",
    "plt.ylabel('Mean Population')\n",
    "plt.show()"
   ]
  },
  {
   "cell_type": "markdown",
   "metadata": {},
   "source": [
    "Below we will investigate how we can combine the **pivot** method along with the **groupby** method to combine some cool **stacked bar charts**!\n",
    "\n",
    "### Using Aggregate Functions\n",
    "\n",
    "In the cell below:\n",
    "\n",
    "* Group `df` by `'State'` and  `'Gender'`, and then slice both `'Death'` and `'Population'` from it. Chain the `.agg()` method to return the mean, min, max, and standard deviation these sliced columns. \n",
    "\n",
    "**_NOTE:_** This only requires one line of code.  \n",
    "\n",
    "By now, you've probably caught on that the code required to do this follows this pattern:    `([things to group by])[columns to slice].agg([aggregates to return])`\n",
    "\n",
    "Then, display the head of this of this new DataFrame."
   ]
  },
  {
   "cell_type": "code",
   "execution_count": 144,
   "metadata": {},
   "outputs": [
    {
     "data": {
      "text/html": [
       "<div>\n",
       "<style scoped>\n",
       "    .dataframe tbody tr th:only-of-type {\n",
       "        vertical-align: middle;\n",
       "    }\n",
       "\n",
       "    .dataframe tbody tr th {\n",
       "        vertical-align: top;\n",
       "    }\n",
       "\n",
       "    .dataframe thead tr th {\n",
       "        text-align: left;\n",
       "    }\n",
       "\n",
       "    .dataframe thead tr:last-of-type th {\n",
       "        text-align: right;\n",
       "    }\n",
       "</style>\n",
       "<table border=\"1\" class=\"dataframe\">\n",
       "  <thead>\n",
       "    <tr>\n",
       "      <th></th>\n",
       "      <th></th>\n",
       "      <th colspan=\"4\" halign=\"left\">Deaths</th>\n",
       "      <th colspan=\"4\" halign=\"left\">Population</th>\n",
       "    </tr>\n",
       "    <tr>\n",
       "      <th></th>\n",
       "      <th></th>\n",
       "      <th>mean</th>\n",
       "      <th>min</th>\n",
       "      <th>max</th>\n",
       "      <th>std</th>\n",
       "      <th>mean</th>\n",
       "      <th>min</th>\n",
       "      <th>max</th>\n",
       "      <th>std</th>\n",
       "    </tr>\n",
       "    <tr>\n",
       "      <th>State</th>\n",
       "      <th>Gender</th>\n",
       "      <th></th>\n",
       "      <th></th>\n",
       "      <th></th>\n",
       "      <th></th>\n",
       "      <th></th>\n",
       "      <th></th>\n",
       "      <th></th>\n",
       "      <th></th>\n",
       "    </tr>\n",
       "  </thead>\n",
       "  <tbody>\n",
       "    <tr>\n",
       "      <th rowspan=\"2\" valign=\"top\">Alabama</th>\n",
       "      <th>Female</th>\n",
       "      <td>10753.325000</td>\n",
       "      <td>10</td>\n",
       "      <td>116297</td>\n",
       "      <td>24612.250487</td>\n",
       "      <td>1.078713e+06</td>\n",
       "      <td>2087</td>\n",
       "      <td>4334752</td>\n",
       "      <td>1.400309e+06</td>\n",
       "    </tr>\n",
       "    <tr>\n",
       "      <th>Male</th>\n",
       "      <td>10765.850000</td>\n",
       "      <td>10</td>\n",
       "      <td>88930</td>\n",
       "      <td>20813.538537</td>\n",
       "      <td>1.014946e+06</td>\n",
       "      <td>1129</td>\n",
       "      <td>4284775</td>\n",
       "      <td>1.397830e+06</td>\n",
       "    </tr>\n",
       "    <tr>\n",
       "      <th rowspan=\"2\" valign=\"top\">Alaska</th>\n",
       "      <th>Female</th>\n",
       "      <td>679.975000</td>\n",
       "      <td>13</td>\n",
       "      <td>4727</td>\n",
       "      <td>1154.870455</td>\n",
       "      <td>1.440403e+05</td>\n",
       "      <td>1224</td>\n",
       "      <td>682855</td>\n",
       "      <td>2.015793e+05</td>\n",
       "    </tr>\n",
       "    <tr>\n",
       "      <th>Male</th>\n",
       "      <td>860.357143</td>\n",
       "      <td>12</td>\n",
       "      <td>5185</td>\n",
       "      <td>1411.777392</td>\n",
       "      <td>1.518884e+05</td>\n",
       "      <td>578</td>\n",
       "      <td>770502</td>\n",
       "      <td>2.238843e+05</td>\n",
       "    </tr>\n",
       "    <tr>\n",
       "      <th>Arizona</th>\n",
       "      <th>Female</th>\n",
       "      <td>8998.386364</td>\n",
       "      <td>21</td>\n",
       "      <td>133923</td>\n",
       "      <td>26245.941003</td>\n",
       "      <td>1.246502e+06</td>\n",
       "      <td>12211</td>\n",
       "      <td>6265346</td>\n",
       "      <td>2.096632e+06</td>\n",
       "    </tr>\n",
       "  </tbody>\n",
       "</table>\n",
       "</div>"
      ],
      "text/plain": [
       "                      Deaths                              Population         \\\n",
       "                        mean min     max           std          mean    min   \n",
       "State   Gender                                                                \n",
       "Alabama Female  10753.325000  10  116297  24612.250487  1.078713e+06   2087   \n",
       "        Male    10765.850000  10   88930  20813.538537  1.014946e+06   1129   \n",
       "Alaska  Female    679.975000  13    4727   1154.870455  1.440403e+05   1224   \n",
       "        Male      860.357143  12    5185   1411.777392  1.518884e+05    578   \n",
       "Arizona Female   8998.386364  21  133923  26245.941003  1.246502e+06  12211   \n",
       "\n",
       "                                       \n",
       "                    max           std  \n",
       "State   Gender                         \n",
       "Alabama Female  4334752  1.400309e+06  \n",
       "        Male    4284775  1.397830e+06  \n",
       "Alaska  Female   682855  2.015793e+05  \n",
       "        Male     770502  2.238843e+05  \n",
       "Arizona Female  6265346  2.096632e+06  "
      ]
     },
     "execution_count": 144,
     "metadata": {},
     "output_type": "execute_result"
    }
   ],
   "source": [
    "grouped = df.groupby(['State', 'Gender'])['Deaths', 'Population'].agg(['mean', 'min', 'max', 'std'])\n",
    "grouped.head()"
   ]
  },
  {
   "cell_type": "markdown",
   "metadata": {},
   "source": [
    "Note how Pandas denotes a multi-hierarchical index in the DataFrame above.  \n",
    "\n",
    "Let's inspect how a multi-hierarchical index is actually stored.  \n",
    "\n",
    "In the cell below, display the `index` attribute of this DataFrame. "
   ]
  },
  {
   "cell_type": "code",
   "execution_count": 54,
   "metadata": {},
   "outputs": [
    {
     "data": {
      "text/plain": [
       "MultiIndex(levels=[['Alabama', 'Alaska', 'Arizona', 'Arkansas', 'California', 'Colorado', 'Connecticut', 'Delaware', 'District of Columbia', 'Florida', 'Georgia', 'Hawaii', 'Idaho', 'Illinois', 'Indiana', 'Iowa', 'Kansas', 'Kentucky', 'Louisiana', 'Maine', 'Maryland', 'Massachusetts', 'Michigan', 'Minnesota', 'Mississippi', 'Missouri', 'Montana', 'Nebraska', 'Nevada', 'New Hampshire', 'New Jersey', 'New Mexico', 'New York', 'North Carolina', 'North Dakota', 'Ohio', 'Oklahoma', 'Oregon', 'Pennsylvania', 'Rhode Island', 'South Carolina', 'South Dakota', 'Tennessee', 'Texas', 'Utah', 'Vermont', 'Virginia', 'Washington', 'West Virginia', 'Wisconsin', 'Wyoming'], ['Female', 'Male']],\n",
       "           labels=[[0, 0, 1, 1, 2, 2, 3, 3, 4, 4, 5, 5, 6, 6, 7, 7, 8, 8, 9, 9, 10, 10, 11, 11, 12, 12, 13, 13, 14, 14, 15, 15, 16, 16, 17, 17, 18, 18, 19, 19, 20, 20, 21, 21, 22, 22, 23, 23, 24, 24, 25, 25, 26, 26, 27, 27, 28, 28, 29, 29, 30, 30, 31, 31, 32, 32, 33, 33, 34, 34, 35, 35, 36, 36, 37, 37, 38, 38, 39, 39, 40, 40, 41, 41, 42, 42, 43, 43, 44, 44, 45, 45, 46, 46, 47, 47, 48, 48, 49, 49, 50, 50], [0, 1, 0, 1, 0, 1, 0, 1, 0, 1, 0, 1, 0, 1, 0, 1, 0, 1, 0, 1, 0, 1, 0, 1, 0, 1, 0, 1, 0, 1, 0, 1, 0, 1, 0, 1, 0, 1, 0, 1, 0, 1, 0, 1, 0, 1, 0, 1, 0, 1, 0, 1, 0, 1, 0, 1, 0, 1, 0, 1, 0, 1, 0, 1, 0, 1, 0, 1, 0, 1, 0, 1, 0, 1, 0, 1, 0, 1, 0, 1, 0, 1, 0, 1, 0, 1, 0, 1, 0, 1, 0, 1, 0, 1, 0, 1, 0, 1, 0, 1, 0, 1]],\n",
       "           names=['State', 'Gender'])"
      ]
     },
     "execution_count": 54,
     "metadata": {},
     "output_type": "execute_result"
    }
   ],
   "source": [
    "grouped.index"
   ]
  },
  {
   "cell_type": "markdown",
   "metadata": {},
   "source": [
    "A two-dimensional array denotes the multiple levels, with each possible combination being a row in our `grouped` DataFrame.  \n",
    "\n",
    "Let's reset the index, and then see how it changes. \n",
    "\n",
    "In the cell below, call the DataFrame's `reset_index()` function.  Then, display the head of the DataFrame.  "
   ]
  },
  {
   "cell_type": "code",
   "execution_count": 145,
   "metadata": {},
   "outputs": [
    {
     "data": {
      "text/html": [
       "<div>\n",
       "<style scoped>\n",
       "    .dataframe tbody tr th:only-of-type {\n",
       "        vertical-align: middle;\n",
       "    }\n",
       "\n",
       "    .dataframe tbody tr th {\n",
       "        vertical-align: top;\n",
       "    }\n",
       "\n",
       "    .dataframe thead tr th {\n",
       "        text-align: left;\n",
       "    }\n",
       "</style>\n",
       "<table border=\"1\" class=\"dataframe\">\n",
       "  <thead>\n",
       "    <tr>\n",
       "      <th></th>\n",
       "      <th>State</th>\n",
       "      <th>Gender</th>\n",
       "      <th colspan=\"4\" halign=\"left\">Deaths</th>\n",
       "      <th colspan=\"4\" halign=\"left\">Population</th>\n",
       "    </tr>\n",
       "    <tr>\n",
       "      <th></th>\n",
       "      <th></th>\n",
       "      <th></th>\n",
       "      <th>mean</th>\n",
       "      <th>min</th>\n",
       "      <th>max</th>\n",
       "      <th>std</th>\n",
       "      <th>mean</th>\n",
       "      <th>min</th>\n",
       "      <th>max</th>\n",
       "      <th>std</th>\n",
       "    </tr>\n",
       "  </thead>\n",
       "  <tbody>\n",
       "    <tr>\n",
       "      <th>0</th>\n",
       "      <td>Alabama</td>\n",
       "      <td>Female</td>\n",
       "      <td>10753.325000</td>\n",
       "      <td>10</td>\n",
       "      <td>116297</td>\n",
       "      <td>24612.250487</td>\n",
       "      <td>1.078713e+06</td>\n",
       "      <td>2087</td>\n",
       "      <td>4334752</td>\n",
       "      <td>1.400309e+06</td>\n",
       "    </tr>\n",
       "    <tr>\n",
       "      <th>1</th>\n",
       "      <td>Alabama</td>\n",
       "      <td>Male</td>\n",
       "      <td>10765.850000</td>\n",
       "      <td>10</td>\n",
       "      <td>88930</td>\n",
       "      <td>20813.538537</td>\n",
       "      <td>1.014946e+06</td>\n",
       "      <td>1129</td>\n",
       "      <td>4284775</td>\n",
       "      <td>1.397830e+06</td>\n",
       "    </tr>\n",
       "    <tr>\n",
       "      <th>2</th>\n",
       "      <td>Alaska</td>\n",
       "      <td>Female</td>\n",
       "      <td>679.975000</td>\n",
       "      <td>13</td>\n",
       "      <td>4727</td>\n",
       "      <td>1154.870455</td>\n",
       "      <td>1.440403e+05</td>\n",
       "      <td>1224</td>\n",
       "      <td>682855</td>\n",
       "      <td>2.015793e+05</td>\n",
       "    </tr>\n",
       "    <tr>\n",
       "      <th>3</th>\n",
       "      <td>Alaska</td>\n",
       "      <td>Male</td>\n",
       "      <td>860.357143</td>\n",
       "      <td>12</td>\n",
       "      <td>5185</td>\n",
       "      <td>1411.777392</td>\n",
       "      <td>1.518884e+05</td>\n",
       "      <td>578</td>\n",
       "      <td>770502</td>\n",
       "      <td>2.238843e+05</td>\n",
       "    </tr>\n",
       "    <tr>\n",
       "      <th>4</th>\n",
       "      <td>Arizona</td>\n",
       "      <td>Female</td>\n",
       "      <td>8998.386364</td>\n",
       "      <td>21</td>\n",
       "      <td>133923</td>\n",
       "      <td>26245.941003</td>\n",
       "      <td>1.246502e+06</td>\n",
       "      <td>12211</td>\n",
       "      <td>6265346</td>\n",
       "      <td>2.096632e+06</td>\n",
       "    </tr>\n",
       "  </tbody>\n",
       "</table>\n",
       "</div>"
      ],
      "text/plain": [
       "     State  Gender        Deaths                              Population  \\\n",
       "                            mean min     max           std          mean   \n",
       "0  Alabama  Female  10753.325000  10  116297  24612.250487  1.078713e+06   \n",
       "1  Alabama    Male  10765.850000  10   88930  20813.538537  1.014946e+06   \n",
       "2   Alaska  Female    679.975000  13    4727   1154.870455  1.440403e+05   \n",
       "3   Alaska    Male    860.357143  12    5185   1411.777392  1.518884e+05   \n",
       "4  Arizona  Female   8998.386364  21  133923  26245.941003  1.246502e+06   \n",
       "\n",
       "                                 \n",
       "     min      max           std  \n",
       "0   2087  4334752  1.400309e+06  \n",
       "1   1129  4284775  1.397830e+06  \n",
       "2   1224   682855  2.015793e+05  \n",
       "3    578   770502  2.238843e+05  \n",
       "4  12211  6265346  2.096632e+06  "
      ]
     },
     "execution_count": 145,
     "metadata": {},
     "output_type": "execute_result"
    }
   ],
   "source": [
    "# First, reset the index. Notice the subtle difference; State and Gender are now columns rather then the index.\n",
    "grouped = grouped.reset_index()\n",
    "grouped.head()"
   ]
  },
  {
   "cell_type": "markdown",
   "metadata": {},
   "source": [
    "Note how the way the index is displayed has changed.  The index columns that made up the multi-hierarchical index before are now stored as columns of data, with each row given a more traditional numerical index. \n",
    "\n",
    "Let's confirm this by reexamining the `index` attribute of `grouped` in the cell below."
   ]
  },
  {
   "cell_type": "code",
   "execution_count": 56,
   "metadata": {},
   "outputs": [
    {
     "data": {
      "text/plain": [
       "RangeIndex(start=0, stop=102, step=1)"
      ]
     },
     "execution_count": 56,
     "metadata": {},
     "output_type": "execute_result"
    }
   ],
   "source": [
    "grouped.index"
   ]
  },
  {
   "cell_type": "markdown",
   "metadata": {},
   "source": [
    "However, look again at the displayed DataFrame--specifically, the columns.  Resetting the index has caused the DataFrame to use a mutlti-indexed structure for the columns. \n",
    "\n",
    "In the cell below, examine the `columns` attribute of `grouped` to confirm this. "
   ]
  },
  {
   "cell_type": "code",
   "execution_count": 57,
   "metadata": {},
   "outputs": [
    {
     "data": {
      "text/plain": [
       "MultiIndex(levels=[['Deaths', 'Population', 'Gender', 'State'], ['mean', 'min', 'max', 'std', '']],\n",
       "           labels=[[3, 2, 0, 0, 0, 0, 1, 1, 1, 1], [4, 4, 0, 1, 2, 3, 0, 1, 2, 3]])"
      ]
     },
     "execution_count": 57,
     "metadata": {},
     "output_type": "execute_result"
    }
   ],
   "source": [
    "grouped.columns\n"
   ]
  },
  {
   "cell_type": "markdown",
   "metadata": {},
   "source": [
    "#### Column Levels\n",
    "\n",
    "Since we're working with miulti-hierarchical indices, we can examine the indices available at each level.\n",
    "\n",
    "In the cell below, use the `get_level_values` method contained within the DataFrame's `columns` object to get the values for the outermost layer of the index. "
   ]
  },
  {
   "cell_type": "code",
   "execution_count": 60,
   "metadata": {},
   "outputs": [
    {
     "data": {
      "text/plain": [
       "Index(['State', 'Gender', 'Deaths', 'Deaths', 'Deaths', 'Deaths', 'Population',\n",
       "       'Population', 'Population', 'Population'],\n",
       "      dtype='object')"
      ]
     },
     "execution_count": 60,
     "metadata": {},
     "output_type": "execute_result"
    }
   ],
   "source": [
    "grouped.columns.get_level_values(0)"
   ]
  },
  {
   "cell_type": "markdown",
   "metadata": {},
   "source": [
    "Now, get the level values for the inner layer of the index. "
   ]
  },
  {
   "cell_type": "code",
   "execution_count": 62,
   "metadata": {},
   "outputs": [
    {
     "data": {
      "text/plain": [
       "Index(['', '', 'mean', 'min', 'max', 'std', 'mean', 'min', 'max', 'std'], dtype='object')"
      ]
     },
     "execution_count": 62,
     "metadata": {},
     "output_type": "execute_result"
    }
   ],
   "source": [
    "grouped.columns.get_level_values(-1)"
   ]
  },
  {
   "cell_type": "markdown",
   "metadata": {},
   "source": [
    "### Flattening the DataFrame\n",
    "\n",
    "We can also **_flatten_** the DataFrame from a multi-hierarchical index to more traditional one-dimensional index.  We do this by creating each unique combination possible of every level of the multi-hierarchical index.  Since this is a complex task, you do not need to write it--but take some time to examine the code in the cell below and see if you can understand how it works! "
   ]
  },
  {
   "cell_type": "code",
   "execution_count": 146,
   "metadata": {},
   "outputs": [
    {
     "data": {
      "text/plain": [
       "Index(['State', 'Gender', 'Deaths_mean', 'Deaths_min', 'Deaths_max',\n",
       "       'Deaths_std', 'Population_mean', 'Population_min', 'Population_max',\n",
       "       'Population_std'],\n",
       "      dtype='object')"
      ]
     },
     "execution_count": 146,
     "metadata": {},
     "output_type": "execute_result"
    }
   ],
   "source": [
    "#We could also flatten these:\n",
    "cols0 = grouped.columns.get_level_values(0)\n",
    "cols1 = grouped.columns.get_level_values(1)\n",
    "grouped.columns = [col0 + '_' + col1 if col1 != '' else col0 for col0, col1 in list(zip(cols0, cols1))]\n",
    "#The list comprehension above is more complicated then what we need but creates a nicer formatting and\n",
    "#demonstrates using a conditional within a list comprehension.\n",
    "#This simpler version works but has some tail underscores where col1 is blank:\n",
    "#grouped.columns = [col0 + '_' + col1 for col0, col1 in list(zip(cols0, cols1))]\n",
    "grouped.columns"
   ]
  },
  {
   "cell_type": "markdown",
   "metadata": {},
   "source": [
    "Now that we've flattened the DataFrame, let's inspect a couple rows to see what it looks like. \n",
    "\n",
    "In the cell below, inspect the head of the `grouped` DataFrame. "
   ]
  },
  {
   "cell_type": "code",
   "execution_count": 147,
   "metadata": {},
   "outputs": [
    {
     "data": {
      "text/html": [
       "<div>\n",
       "<style scoped>\n",
       "    .dataframe tbody tr th:only-of-type {\n",
       "        vertical-align: middle;\n",
       "    }\n",
       "\n",
       "    .dataframe tbody tr th {\n",
       "        vertical-align: top;\n",
       "    }\n",
       "\n",
       "    .dataframe thead th {\n",
       "        text-align: right;\n",
       "    }\n",
       "</style>\n",
       "<table border=\"1\" class=\"dataframe\">\n",
       "  <thead>\n",
       "    <tr style=\"text-align: right;\">\n",
       "      <th></th>\n",
       "      <th>State</th>\n",
       "      <th>Gender</th>\n",
       "      <th>Deaths_mean</th>\n",
       "      <th>Deaths_min</th>\n",
       "      <th>Deaths_max</th>\n",
       "      <th>Deaths_std</th>\n",
       "      <th>Population_mean</th>\n",
       "      <th>Population_min</th>\n",
       "      <th>Population_max</th>\n",
       "      <th>Population_std</th>\n",
       "    </tr>\n",
       "  </thead>\n",
       "  <tbody>\n",
       "    <tr>\n",
       "      <th>0</th>\n",
       "      <td>Alabama</td>\n",
       "      <td>Female</td>\n",
       "      <td>10753.325000</td>\n",
       "      <td>10</td>\n",
       "      <td>116297</td>\n",
       "      <td>24612.250487</td>\n",
       "      <td>1.078713e+06</td>\n",
       "      <td>2087</td>\n",
       "      <td>4334752</td>\n",
       "      <td>1.400309e+06</td>\n",
       "    </tr>\n",
       "    <tr>\n",
       "      <th>1</th>\n",
       "      <td>Alabama</td>\n",
       "      <td>Male</td>\n",
       "      <td>10765.850000</td>\n",
       "      <td>10</td>\n",
       "      <td>88930</td>\n",
       "      <td>20813.538537</td>\n",
       "      <td>1.014946e+06</td>\n",
       "      <td>1129</td>\n",
       "      <td>4284775</td>\n",
       "      <td>1.397830e+06</td>\n",
       "    </tr>\n",
       "    <tr>\n",
       "      <th>2</th>\n",
       "      <td>Alaska</td>\n",
       "      <td>Female</td>\n",
       "      <td>679.975000</td>\n",
       "      <td>13</td>\n",
       "      <td>4727</td>\n",
       "      <td>1154.870455</td>\n",
       "      <td>1.440403e+05</td>\n",
       "      <td>1224</td>\n",
       "      <td>682855</td>\n",
       "      <td>2.015793e+05</td>\n",
       "    </tr>\n",
       "    <tr>\n",
       "      <th>3</th>\n",
       "      <td>Alaska</td>\n",
       "      <td>Male</td>\n",
       "      <td>860.357143</td>\n",
       "      <td>12</td>\n",
       "      <td>5185</td>\n",
       "      <td>1411.777392</td>\n",
       "      <td>1.518884e+05</td>\n",
       "      <td>578</td>\n",
       "      <td>770502</td>\n",
       "      <td>2.238843e+05</td>\n",
       "    </tr>\n",
       "    <tr>\n",
       "      <th>4</th>\n",
       "      <td>Arizona</td>\n",
       "      <td>Female</td>\n",
       "      <td>8998.386364</td>\n",
       "      <td>21</td>\n",
       "      <td>133923</td>\n",
       "      <td>26245.941003</td>\n",
       "      <td>1.246502e+06</td>\n",
       "      <td>12211</td>\n",
       "      <td>6265346</td>\n",
       "      <td>2.096632e+06</td>\n",
       "    </tr>\n",
       "  </tbody>\n",
       "</table>\n",
       "</div>"
      ],
      "text/plain": [
       "     State  Gender   Deaths_mean  Deaths_min  Deaths_max    Deaths_std  \\\n",
       "0  Alabama  Female  10753.325000          10      116297  24612.250487   \n",
       "1  Alabama    Male  10765.850000          10       88930  20813.538537   \n",
       "2   Alaska  Female    679.975000          13        4727   1154.870455   \n",
       "3   Alaska    Male    860.357143          12        5185   1411.777392   \n",
       "4  Arizona  Female   8998.386364          21      133923  26245.941003   \n",
       "\n",
       "   Population_mean  Population_min  Population_max  Population_std  \n",
       "0     1.078713e+06            2087         4334752    1.400309e+06  \n",
       "1     1.014946e+06            1129         4284775    1.397830e+06  \n",
       "2     1.440403e+05            1224          682855    2.015793e+05  \n",
       "3     1.518884e+05             578          770502    2.238843e+05  \n",
       "4     1.246502e+06           12211         6265346    2.096632e+06  "
      ]
     },
     "execution_count": 147,
     "metadata": {},
     "output_type": "execute_result"
    }
   ],
   "source": [
    "grouped.head()"
   ]
  },
  {
   "cell_type": "markdown",
   "metadata": {},
   "source": [
    "## Using Pivots\n",
    "\n",
    "Now, we'll gain some practice using the DataFrame class's built-in `.pivot()` method.  \n",
    "\n",
    "In the cell below, call the DataFrame's pivot method with the following parameters:\n",
    "\n",
    "* index = `'State'`\n",
    "* columns = `'Gender'`\n",
    "* values = `'Deaths_mean'`\n",
    "\n",
    "Then, display the head of our new `pivot` DataFrame to see what it looks like. "
   ]
  },
  {
   "cell_type": "code",
   "execution_count": 148,
   "metadata": {},
   "outputs": [
    {
     "data": {
      "text/html": [
       "<div>\n",
       "<style scoped>\n",
       "    .dataframe tbody tr th:only-of-type {\n",
       "        vertical-align: middle;\n",
       "    }\n",
       "\n",
       "    .dataframe tbody tr th {\n",
       "        vertical-align: top;\n",
       "    }\n",
       "\n",
       "    .dataframe thead th {\n",
       "        text-align: right;\n",
       "    }\n",
       "</style>\n",
       "<table border=\"1\" class=\"dataframe\">\n",
       "  <thead>\n",
       "    <tr style=\"text-align: right;\">\n",
       "      <th>Gender</th>\n",
       "      <th>Female</th>\n",
       "      <th>Male</th>\n",
       "    </tr>\n",
       "    <tr>\n",
       "      <th>State</th>\n",
       "      <th></th>\n",
       "      <th></th>\n",
       "    </tr>\n",
       "  </thead>\n",
       "  <tbody>\n",
       "    <tr>\n",
       "      <th>Alabama</th>\n",
       "      <td>10753.325000</td>\n",
       "      <td>10765.850000</td>\n",
       "    </tr>\n",
       "    <tr>\n",
       "      <th>Alaska</th>\n",
       "      <td>679.975000</td>\n",
       "      <td>860.357143</td>\n",
       "    </tr>\n",
       "    <tr>\n",
       "      <th>Arizona</th>\n",
       "      <td>8998.386364</td>\n",
       "      <td>10036.204545</td>\n",
       "    </tr>\n",
       "    <tr>\n",
       "      <th>Arkansas</th>\n",
       "      <td>6621.615385</td>\n",
       "      <td>6301.690476</td>\n",
       "    </tr>\n",
       "    <tr>\n",
       "      <th>California</th>\n",
       "      <td>48312.840909</td>\n",
       "      <td>49555.522727</td>\n",
       "    </tr>\n",
       "  </tbody>\n",
       "</table>\n",
       "</div>"
      ],
      "text/plain": [
       "Gender            Female          Male\n",
       "State                                 \n",
       "Alabama     10753.325000  10765.850000\n",
       "Alaska        679.975000    860.357143\n",
       "Arizona      8998.386364  10036.204545\n",
       "Arkansas     6621.615385   6301.690476\n",
       "California  48312.840909  49555.522727"
      ]
     },
     "execution_count": 148,
     "metadata": {},
     "output_type": "execute_result"
    }
   ],
   "source": [
    "# Now it's time to pivot!\n",
    "pivot =  grouped.pivot(index='State', columns='Gender', values='Deaths_mean')\n",
    "pivot.head()"
   ]
  },
  {
   "cell_type": "markdown",
   "metadata": {},
   "source": [
    "Great! We've just created a pivot table.  \n",
    "\n",
    "Let's reset the index and see how it changes our pivot table. \n",
    "\n",
    "In the cell below, reset the index of the `pivot` object as we did previously.  Then, display the head of the object to see if we can detect any changes."
   ]
  },
  {
   "cell_type": "code",
   "execution_count": 149,
   "metadata": {},
   "outputs": [
    {
     "data": {
      "text/html": [
       "<div>\n",
       "<style scoped>\n",
       "    .dataframe tbody tr th:only-of-type {\n",
       "        vertical-align: middle;\n",
       "    }\n",
       "\n",
       "    .dataframe tbody tr th {\n",
       "        vertical-align: top;\n",
       "    }\n",
       "\n",
       "    .dataframe thead th {\n",
       "        text-align: right;\n",
       "    }\n",
       "</style>\n",
       "<table border=\"1\" class=\"dataframe\">\n",
       "  <thead>\n",
       "    <tr style=\"text-align: right;\">\n",
       "      <th>Gender</th>\n",
       "      <th>State</th>\n",
       "      <th>Female</th>\n",
       "      <th>Male</th>\n",
       "    </tr>\n",
       "  </thead>\n",
       "  <tbody>\n",
       "    <tr>\n",
       "      <th>0</th>\n",
       "      <td>Alabama</td>\n",
       "      <td>10753.325000</td>\n",
       "      <td>10765.850000</td>\n",
       "    </tr>\n",
       "    <tr>\n",
       "      <th>1</th>\n",
       "      <td>Alaska</td>\n",
       "      <td>679.975000</td>\n",
       "      <td>860.357143</td>\n",
       "    </tr>\n",
       "    <tr>\n",
       "      <th>2</th>\n",
       "      <td>Arizona</td>\n",
       "      <td>8998.386364</td>\n",
       "      <td>10036.204545</td>\n",
       "    </tr>\n",
       "    <tr>\n",
       "      <th>3</th>\n",
       "      <td>Arkansas</td>\n",
       "      <td>6621.615385</td>\n",
       "      <td>6301.690476</td>\n",
       "    </tr>\n",
       "    <tr>\n",
       "      <th>4</th>\n",
       "      <td>California</td>\n",
       "      <td>48312.840909</td>\n",
       "      <td>49555.522727</td>\n",
       "    </tr>\n",
       "  </tbody>\n",
       "</table>\n",
       "</div>"
      ],
      "text/plain": [
       "Gender       State        Female          Male\n",
       "0          Alabama  10753.325000  10765.850000\n",
       "1           Alaska    679.975000    860.357143\n",
       "2          Arizona   8998.386364  10036.204545\n",
       "3         Arkansas   6621.615385   6301.690476\n",
       "4       California  48312.840909  49555.522727"
      ]
     },
     "execution_count": 149,
     "metadata": {},
     "output_type": "execute_result"
    }
   ],
   "source": [
    "# Again, notice the subtle difference of reseting the index:\n",
    "pivot = pivot.reset_index()\n",
    "pivot.head()"
   ]
  },
  {
   "cell_type": "markdown",
   "metadata": {},
   "source": [
    "### Visualizing Data With Pivot Tables\n",
    "\n",
    "Now, we'll make use of our newly created pivot table to quickly create some visualizations of our data.  \n",
    "\n",
    "In the cell below, call `pivot.plot()` with the following parameters:\n",
    "\n",
    "* kind = `'barh'`\n",
    "* figsize = `(15,8)`"
   ]
  },
  {
   "cell_type": "code",
   "execution_count": 69,
   "metadata": {},
   "outputs": [
    {
     "data": {
      "text/plain": [
       "<matplotlib.axes._subplots.AxesSubplot at 0x114555898>"
      ]
     },
     "execution_count": 69,
     "metadata": {},
     "output_type": "execute_result"
    },
    {
     "data": {
      "image/png": "[encoded data removed]",
      "text/plain": [
       "<Figure size 1080x576 with 1 Axes>"
      ]
     },
     "metadata": {
      "needs_background": "light"
     },
     "output_type": "display_data"
    }
   ],
   "source": [
    "pivot.plot(kind='barh', figsize=(15,8))\n"
   ]
  },
  {
   "cell_type": "markdown",
   "metadata": {},
   "source": [
    "Notice the Y-axis is currently just a list of numbers.  That's because when we reset the index, it defaulted to assigning integers as the index for the DataFrame.  Let's set the index back to `'State'`, and then recreate the visualization. \n",
    "\n",
    "In the cell below:\n",
    "\n",
    "* Use the `pivot` object's `set_index()` method and set the index to `'State'`.  Then, chain this with a `.plot()` call to recreate the visualization using the code we used in the cell above.  \n",
    "\n",
    "All the code in this cell should be done in a single line.  Just call the methods--do not rebind `pivot` to be equal to this line of code. "
   ]
  },
  {
   "cell_type": "code",
   "execution_count": 70,
   "metadata": {},
   "outputs": [
    {
     "data": {
      "text/plain": [
       "<matplotlib.axes._subplots.AxesSubplot at 0x1137b7b38>"
      ]
     },
     "execution_count": 70,
     "metadata": {},
     "output_type": "execute_result"
    },
    {
     "data": {
      "image/png": "[encoded data removed]",
      "text/plain": [
       "<Figure size 1080x576 with 1 Axes>"
      ]
     },
     "metadata": {
      "needs_background": "light"
     },
     "output_type": "display_data"
    }
   ],
   "source": [
    "pivot.set_index('State').plot(kind='barh', figsize=(15, 8))\n"
   ]
  },
  {
   "cell_type": "markdown",
   "metadata": {},
   "source": [
    "Now, that we've created a visualization with the states as the y-axis, let's print out the head of the `pivot` object again. "
   ]
  },
  {
   "cell_type": "code",
   "execution_count": 150,
   "metadata": {},
   "outputs": [
    {
     "data": {
      "text/html": [
       "<div>\n",
       "<style scoped>\n",
       "    .dataframe tbody tr th:only-of-type {\n",
       "        vertical-align: middle;\n",
       "    }\n",
       "\n",
       "    .dataframe tbody tr th {\n",
       "        vertical-align: top;\n",
       "    }\n",
       "\n",
       "    .dataframe thead th {\n",
       "        text-align: right;\n",
       "    }\n",
       "</style>\n",
       "<table border=\"1\" class=\"dataframe\">\n",
       "  <thead>\n",
       "    <tr style=\"text-align: right;\">\n",
       "      <th>Gender</th>\n",
       "      <th>State</th>\n",
       "      <th>Female</th>\n",
       "      <th>Male</th>\n",
       "    </tr>\n",
       "  </thead>\n",
       "  <tbody>\n",
       "    <tr>\n",
       "      <th>0</th>\n",
       "      <td>Alabama</td>\n",
       "      <td>10753.325000</td>\n",
       "      <td>10765.850000</td>\n",
       "    </tr>\n",
       "    <tr>\n",
       "      <th>1</th>\n",
       "      <td>Alaska</td>\n",
       "      <td>679.975000</td>\n",
       "      <td>860.357143</td>\n",
       "    </tr>\n",
       "    <tr>\n",
       "      <th>2</th>\n",
       "      <td>Arizona</td>\n",
       "      <td>8998.386364</td>\n",
       "      <td>10036.204545</td>\n",
       "    </tr>\n",
       "    <tr>\n",
       "      <th>3</th>\n",
       "      <td>Arkansas</td>\n",
       "      <td>6621.615385</td>\n",
       "      <td>6301.690476</td>\n",
       "    </tr>\n",
       "    <tr>\n",
       "      <th>4</th>\n",
       "      <td>California</td>\n",
       "      <td>48312.840909</td>\n",
       "      <td>49555.522727</td>\n",
       "    </tr>\n",
       "  </tbody>\n",
       "</table>\n",
       "</div>"
      ],
      "text/plain": [
       "Gender       State        Female          Male\n",
       "0          Alabama  10753.325000  10765.850000\n",
       "1           Alaska    679.975000    860.357143\n",
       "2          Arizona   8998.386364  10036.204545\n",
       "3         Arkansas   6621.615385   6301.690476\n",
       "4       California  48312.840909  49555.522727"
      ]
     },
     "execution_count": 150,
     "metadata": {},
     "output_type": "execute_result"
    }
   ],
   "source": [
    "pivot.head()\n"
   ]
  },
  {
   "cell_type": "markdown",
   "metadata": {},
   "source": [
    "Note that the index has not changed.  That's because the code we wrote when we set the index to the 'State' column returns a copy of the DataFrame object with the index set to 'State'--by default, it does not mutate original `pivot` object.  \n",
    "\n",
    "If we want to do that, we'll need to capture the new object returned by updating the contents of the `pivot` variable.  \n",
    "\n",
    "In the cell below, set the index of `pivot` to `'State'`.  Then, recreate the bar plot using this new object.  "
   ]
  },
  {
   "cell_type": "code",
   "execution_count": 151,
   "metadata": {},
   "outputs": [],
   "source": [
    "#If we wanted to more permanently change the index we would set it first and then plot:\n",
    "pivot = pivot.set_index('State')"
   ]
  },
  {
   "cell_type": "markdown",
   "metadata": {},
   "source": [
    "Again, let's check the head of the DataFrame to confirm that the index structure has changed.  "
   ]
  },
  {
   "cell_type": "code",
   "execution_count": 152,
   "metadata": {},
   "outputs": [
    {
     "data": {
      "text/html": [
       "<div>\n",
       "<style scoped>\n",
       "    .dataframe tbody tr th:only-of-type {\n",
       "        vertical-align: middle;\n",
       "    }\n",
       "\n",
       "    .dataframe tbody tr th {\n",
       "        vertical-align: top;\n",
       "    }\n",
       "\n",
       "    .dataframe thead th {\n",
       "        text-align: right;\n",
       "    }\n",
       "</style>\n",
       "<table border=\"1\" class=\"dataframe\">\n",
       "  <thead>\n",
       "    <tr style=\"text-align: right;\">\n",
       "      <th>Gender</th>\n",
       "      <th>Female</th>\n",
       "      <th>Male</th>\n",
       "    </tr>\n",
       "    <tr>\n",
       "      <th>State</th>\n",
       "      <th></th>\n",
       "      <th></th>\n",
       "    </tr>\n",
       "  </thead>\n",
       "  <tbody>\n",
       "    <tr>\n",
       "      <th>Alabama</th>\n",
       "      <td>10753.325000</td>\n",
       "      <td>10765.850000</td>\n",
       "    </tr>\n",
       "    <tr>\n",
       "      <th>Alaska</th>\n",
       "      <td>679.975000</td>\n",
       "      <td>860.357143</td>\n",
       "    </tr>\n",
       "    <tr>\n",
       "      <th>Arizona</th>\n",
       "      <td>8998.386364</td>\n",
       "      <td>10036.204545</td>\n",
       "    </tr>\n",
       "    <tr>\n",
       "      <th>Arkansas</th>\n",
       "      <td>6621.615385</td>\n",
       "      <td>6301.690476</td>\n",
       "    </tr>\n",
       "    <tr>\n",
       "      <th>California</th>\n",
       "      <td>48312.840909</td>\n",
       "      <td>49555.522727</td>\n",
       "    </tr>\n",
       "  </tbody>\n",
       "</table>\n",
       "</div>"
      ],
      "text/plain": [
       "Gender            Female          Male\n",
       "State                                 \n",
       "Alabama     10753.325000  10765.850000\n",
       "Alaska        679.975000    860.357143\n",
       "Arizona      8998.386364  10036.204545\n",
       "Arkansas     6621.615385   6301.690476\n",
       "California  48312.840909  49555.522727"
      ]
     },
     "execution_count": 152,
     "metadata": {},
     "output_type": "execute_result"
    }
   ],
   "source": [
    "pivot.head()"
   ]
  },
  {
   "cell_type": "markdown",
   "metadata": {},
   "source": [
    "Finally, let's stack these bar charts to see how that looks. \n",
    "\n",
    "In the cell below, recreate the visualization we did in the cell above, but this time, also pass in `stacked=True` as a parameter. "
   ]
  },
  {
   "cell_type": "code",
   "execution_count": 74,
   "metadata": {},
   "outputs": [
    {
     "data": {
      "text/plain": [
       "<matplotlib.axes._subplots.AxesSubplot at 0x11356d630>"
      ]
     },
     "execution_count": 74,
     "metadata": {},
     "output_type": "execute_result"
    },
    {
     "data": {
      "image/png": "[encoded data removed]",
      "text/plain": [
       "<Figure size 1080x576 with 1 Axes>"
      ]
     },
     "metadata": {
      "needs_background": "light"
     },
     "output_type": "display_data"
    }
   ],
   "source": [
    "pivot.plot(kind='barh', figsize=(15,8), stacked=True)\n"
   ]
  },
  {
   "cell_type": "markdown",
   "metadata": {},
   "source": [
    "## Stacking and Unstacking DataFrames\n",
    "\n",
    "Now, let's get some practice stacking and unstacking DataFrames. \n",
    "\n",
    "### Stacking\n",
    "\n",
    "In the cell below, let's display the head of `grouped` to remind ourselves of the format we left it in. "
   ]
  },
  {
   "cell_type": "code",
   "execution_count": 153,
   "metadata": {},
   "outputs": [
    {
     "data": {
      "text/html": [
       "<div>\n",
       "<style scoped>\n",
       "    .dataframe tbody tr th:only-of-type {\n",
       "        vertical-align: middle;\n",
       "    }\n",
       "\n",
       "    .dataframe tbody tr th {\n",
       "        vertical-align: top;\n",
       "    }\n",
       "\n",
       "    .dataframe thead th {\n",
       "        text-align: right;\n",
       "    }\n",
       "</style>\n",
       "<table border=\"1\" class=\"dataframe\">\n",
       "  <thead>\n",
       "    <tr style=\"text-align: right;\">\n",
       "      <th></th>\n",
       "      <th>State</th>\n",
       "      <th>Gender</th>\n",
       "      <th>Deaths_mean</th>\n",
       "      <th>Deaths_min</th>\n",
       "      <th>Deaths_max</th>\n",
       "      <th>Deaths_std</th>\n",
       "      <th>Population_mean</th>\n",
       "      <th>Population_min</th>\n",
       "      <th>Population_max</th>\n",
       "      <th>Population_std</th>\n",
       "    </tr>\n",
       "  </thead>\n",
       "  <tbody>\n",
       "    <tr>\n",
       "      <th>0</th>\n",
       "      <td>Alabama</td>\n",
       "      <td>Female</td>\n",
       "      <td>10753.325000</td>\n",
       "      <td>10</td>\n",
       "      <td>116297</td>\n",
       "      <td>24612.250487</td>\n",
       "      <td>1.078713e+06</td>\n",
       "      <td>2087</td>\n",
       "      <td>4334752</td>\n",
       "      <td>1.400309e+06</td>\n",
       "    </tr>\n",
       "    <tr>\n",
       "      <th>1</th>\n",
       "      <td>Alabama</td>\n",
       "      <td>Male</td>\n",
       "      <td>10765.850000</td>\n",
       "      <td>10</td>\n",
       "      <td>88930</td>\n",
       "      <td>20813.538537</td>\n",
       "      <td>1.014946e+06</td>\n",
       "      <td>1129</td>\n",
       "      <td>4284775</td>\n",
       "      <td>1.397830e+06</td>\n",
       "    </tr>\n",
       "    <tr>\n",
       "      <th>2</th>\n",
       "      <td>Alaska</td>\n",
       "      <td>Female</td>\n",
       "      <td>679.975000</td>\n",
       "      <td>13</td>\n",
       "      <td>4727</td>\n",
       "      <td>1154.870455</td>\n",
       "      <td>1.440403e+05</td>\n",
       "      <td>1224</td>\n",
       "      <td>682855</td>\n",
       "      <td>2.015793e+05</td>\n",
       "    </tr>\n",
       "    <tr>\n",
       "      <th>3</th>\n",
       "      <td>Alaska</td>\n",
       "      <td>Male</td>\n",
       "      <td>860.357143</td>\n",
       "      <td>12</td>\n",
       "      <td>5185</td>\n",
       "      <td>1411.777392</td>\n",
       "      <td>1.518884e+05</td>\n",
       "      <td>578</td>\n",
       "      <td>770502</td>\n",
       "      <td>2.238843e+05</td>\n",
       "    </tr>\n",
       "    <tr>\n",
       "      <th>4</th>\n",
       "      <td>Arizona</td>\n",
       "      <td>Female</td>\n",
       "      <td>8998.386364</td>\n",
       "      <td>21</td>\n",
       "      <td>133923</td>\n",
       "      <td>26245.941003</td>\n",
       "      <td>1.246502e+06</td>\n",
       "      <td>12211</td>\n",
       "      <td>6265346</td>\n",
       "      <td>2.096632e+06</td>\n",
       "    </tr>\n",
       "  </tbody>\n",
       "</table>\n",
       "</div>"
      ],
      "text/plain": [
       "     State  Gender   Deaths_mean  Deaths_min  Deaths_max    Deaths_std  \\\n",
       "0  Alabama  Female  10753.325000          10      116297  24612.250487   \n",
       "1  Alabama    Male  10765.850000          10       88930  20813.538537   \n",
       "2   Alaska  Female    679.975000          13        4727   1154.870455   \n",
       "3   Alaska    Male    860.357143          12        5185   1411.777392   \n",
       "4  Arizona  Female   8998.386364          21      133923  26245.941003   \n",
       "\n",
       "   Population_mean  Population_min  Population_max  Population_std  \n",
       "0     1.078713e+06            2087         4334752    1.400309e+06  \n",
       "1     1.014946e+06            1129         4284775    1.397830e+06  \n",
       "2     1.440403e+05            1224          682855    2.015793e+05  \n",
       "3     1.518884e+05             578          770502    2.238843e+05  \n",
       "4     1.246502e+06           12211         6265346    2.096632e+06  "
      ]
     },
     "execution_count": 153,
     "metadata": {},
     "output_type": "execute_result"
    }
   ],
   "source": [
    "grouped.head()"
   ]
  },
  {
   "cell_type": "markdown",
   "metadata": {},
   "source": [
    "As we can see above, `grouped` is currently in a flattened format, with no hierarchical structure to it's indices.  \n",
    "\n",
    "In the cell below, call the `grouped` DataFrame's `.stack()` method. "
   ]
  },
  {
   "cell_type": "code",
   "execution_count": 155,
   "metadata": {},
   "outputs": [
    {
     "data": {
      "text/html": [
       "<div>\n",
       "<style scoped>\n",
       "    .dataframe tbody tr th:only-of-type {\n",
       "        vertical-align: middle;\n",
       "    }\n",
       "\n",
       "    .dataframe tbody tr th {\n",
       "        vertical-align: top;\n",
       "    }\n",
       "\n",
       "    .dataframe thead th {\n",
       "        text-align: right;\n",
       "    }\n",
       "</style>\n",
       "<table border=\"1\" class=\"dataframe\">\n",
       "  <thead>\n",
       "    <tr style=\"text-align: right;\">\n",
       "      <th></th>\n",
       "      <th>State</th>\n",
       "      <th>Gender</th>\n",
       "      <th>Deaths_mean</th>\n",
       "      <th>Deaths_min</th>\n",
       "      <th>Deaths_max</th>\n",
       "      <th>Deaths_std</th>\n",
       "      <th>Population_mean</th>\n",
       "      <th>Population_min</th>\n",
       "      <th>Population_max</th>\n",
       "      <th>Population_std</th>\n",
       "    </tr>\n",
       "  </thead>\n",
       "  <tbody>\n",
       "    <tr>\n",
       "      <th>0</th>\n",
       "      <td>Alabama</td>\n",
       "      <td>Female</td>\n",
       "      <td>10753.325000</td>\n",
       "      <td>10</td>\n",
       "      <td>116297</td>\n",
       "      <td>24612.250487</td>\n",
       "      <td>1.078713e+06</td>\n",
       "      <td>2087</td>\n",
       "      <td>4334752</td>\n",
       "      <td>1.400309e+06</td>\n",
       "    </tr>\n",
       "    <tr>\n",
       "      <th>1</th>\n",
       "      <td>Alabama</td>\n",
       "      <td>Male</td>\n",
       "      <td>10765.850000</td>\n",
       "      <td>10</td>\n",
       "      <td>88930</td>\n",
       "      <td>20813.538537</td>\n",
       "      <td>1.014946e+06</td>\n",
       "      <td>1129</td>\n",
       "      <td>4284775</td>\n",
       "      <td>1.397830e+06</td>\n",
       "    </tr>\n",
       "    <tr>\n",
       "      <th>2</th>\n",
       "      <td>Alaska</td>\n",
       "      <td>Female</td>\n",
       "      <td>679.975000</td>\n",
       "      <td>13</td>\n",
       "      <td>4727</td>\n",
       "      <td>1154.870455</td>\n",
       "      <td>1.440403e+05</td>\n",
       "      <td>1224</td>\n",
       "      <td>682855</td>\n",
       "      <td>2.015793e+05</td>\n",
       "    </tr>\n",
       "    <tr>\n",
       "      <th>3</th>\n",
       "      <td>Alaska</td>\n",
       "      <td>Male</td>\n",
       "      <td>860.357143</td>\n",
       "      <td>12</td>\n",
       "      <td>5185</td>\n",
       "      <td>1411.777392</td>\n",
       "      <td>1.518884e+05</td>\n",
       "      <td>578</td>\n",
       "      <td>770502</td>\n",
       "      <td>2.238843e+05</td>\n",
       "    </tr>\n",
       "    <tr>\n",
       "      <th>4</th>\n",
       "      <td>Arizona</td>\n",
       "      <td>Female</td>\n",
       "      <td>8998.386364</td>\n",
       "      <td>21</td>\n",
       "      <td>133923</td>\n",
       "      <td>26245.941003</td>\n",
       "      <td>1.246502e+06</td>\n",
       "      <td>12211</td>\n",
       "      <td>6265346</td>\n",
       "      <td>2.096632e+06</td>\n",
       "    </tr>\n",
       "  </tbody>\n",
       "</table>\n",
       "</div>"
      ],
      "text/plain": [
       "     State  Gender   Deaths_mean  Deaths_min  Deaths_max    Deaths_std  \\\n",
       "0  Alabama  Female  10753.325000          10      116297  24612.250487   \n",
       "1  Alabama    Male  10765.850000          10       88930  20813.538537   \n",
       "2   Alaska  Female    679.975000          13        4727   1154.870455   \n",
       "3   Alaska    Male    860.357143          12        5185   1411.777392   \n",
       "4  Arizona  Female   8998.386364          21      133923  26245.941003   \n",
       "\n",
       "   Population_mean  Population_min  Population_max  Population_std  \n",
       "0     1.078713e+06            2087         4334752    1.400309e+06  \n",
       "1     1.014946e+06            1129         4284775    1.397830e+06  \n",
       "2     1.440403e+05            1224          682855    2.015793e+05  \n",
       "3     1.518884e+05             578          770502    2.238843e+05  \n",
       "4     1.246502e+06           12211         6265346    2.096632e+06  "
      ]
     },
     "execution_count": 155,
     "metadata": {},
     "output_type": "execute_result"
    }
   ],
   "source": [
    "grouped.stack()\n",
    "grouped.head()"
   ]
  },
  {
   "cell_type": "markdown",
   "metadata": {},
   "source": [
    "As we can see, the `stack()` method has stacked our DataFrame from a flattened format into one with a multi-hierarchical index! This is an easy, quick way to aggregate our data.\n",
    "\n",
    "### Unstacking \n",
    "\n",
    "Now, we'll explore unstacking with the `pivot` DataFrame, which is already stacked into a pivot table. \n",
    "\n",
    "In the cell below, set unstack `pivot` using the object's `.unstack()` method. Then, display the object to see how it has changed. "
   ]
  },
  {
   "cell_type": "code",
   "execution_count": 157,
   "metadata": {},
   "outputs": [
    {
     "data": {
      "text/plain": [
       "Gender  State     \n",
       "Female  Alabama       10753.325000\n",
       "        Alaska          679.975000\n",
       "        Arizona        8998.386364\n",
       "        Arkansas       6621.615385\n",
       "        California    48312.840909\n",
       "dtype: float64"
      ]
     },
     "execution_count": 157,
     "metadata": {},
     "output_type": "execute_result"
    }
   ],
   "source": [
    "pivot.unstack().head()\n"
   ]
  },
  {
   "cell_type": "markdown",
   "metadata": {},
   "source": [
    "Note that it has unstacked the multi-hierarchical structure of the `pivot` DataFrame by one level. Let's call it one more time and display the results!\n",
    "\n",
    "In the cell below, set pivot equal to `pivot.unstack()` again, and then display the `pivot` object to see how things have changed."
   ]
  },
  {
   "cell_type": "code",
   "execution_count": 158,
   "metadata": {},
   "outputs": [
    {
     "data": {
      "text/plain": [
       "Gender  State     \n",
       "Female  Alabama       10753.325000\n",
       "        Alaska          679.975000\n",
       "        Arizona        8998.386364\n",
       "        Arkansas       6621.615385\n",
       "        California    48312.840909\n",
       "dtype: float64"
      ]
     },
     "execution_count": 158,
     "metadata": {},
     "output_type": "execute_result"
    }
   ],
   "source": [
    "pivot = pivot.unstack()\n",
    "pivot.head()"
   ]
  },
  {
   "cell_type": "markdown",
   "metadata": {},
   "source": [
    "After calling unstack a second time, we can see that `pivot` has a flattened structure, since it has been completely unstacked!\n",
    "\n",
    "## Summary\n",
    "\n",
    "In this lab, we learned how to:\n",
    "\n",
    "* Use `groupby` to stack and slice data conditionally\n",
    "* Use aggregate functions in combination with groupby statements\n",
    "* Create pivot tables with pandas\n",
    "* Leverage pivot tables and groupby statements to create quick visualizations\n",
    "* `stack` and `unstack` DataFrames "
   ]
  }
 ],
 "metadata": {
  "kernelspec": {
   "display_name": "Python 3",
   "language": "python",
   "name": "python3"
  },
  "language_info": {
   "codemirror_mode": {
    "name": "ipython",
    "version": 3
   },
   "file_extension": ".py",
   "mimetype": "text/x-python",
   "name": "python",
   "nbconvert_exporter": "python",
   "pygments_lexer": "ipython3",
   "version": "3.6.6"
  }
 },
 "nbformat": 4,
 "nbformat_minor": 2
}
